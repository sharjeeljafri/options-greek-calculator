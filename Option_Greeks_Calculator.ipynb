{
  "nbformat": 4,
  "nbformat_minor": 0,
  "metadata": {
    "colab": {
      "provenance": [],
      "history_visible": true,
      "authorship_tag": "ABX9TyOhsAX+upDEymLY6ZehOujB",
      "include_colab_link": true
    },
    "kernelspec": {
      "name": "python3",
      "display_name": "Python 3"
    },
    "language_info": {
      "name": "python"
    }
  },
  "cells": [
    {
      "cell_type": "markdown",
      "metadata": {
        "id": "view-in-github",
        "colab_type": "text"
      },
      "source": [
        "<a href=\"https://colab.research.google.com/github/sharjeeljafri/options-greek-calculator/blob/main/Option_Greeks_Calculator.ipynb\" target=\"_parent\"><img src=\"https://colab.research.google.com/assets/colab-badge.svg\" alt=\"Open In Colab\"/></a>"
      ]
    },
    {
      "cell_type": "code",
      "execution_count": 5,
      "metadata": {
        "colab": {
          "base_uri": "https://localhost:8080/"
        },
        "id": "gCS1xi9phqef",
        "outputId": "ed9eff27-0500-40fd-82eb-3ec1fed8d354",
        "collapsed": true
      },
      "outputs": [
        {
          "output_type": "stream",
          "name": "stdout",
          "text": [
            "Black-Scholes Options Calculator\n",
            "Stock Price (S): 120\n",
            "Strike Price (K): 100\n",
            "Time to Expiry (years, e.g., 1): 1\n",
            "Risk-Free Rate (e.g., 0.05 for 5%): 0.05\n",
            "Volatility (e.g., 0.2 for 20%): .3\n",
            "Option Type (call or put): call\n",
            "\n",
            "Call Option Greeks:\n",
            "Price   : 28.8804\n",
            "Delta   : 0.8224\n",
            "Gamma   : 0.0072\n",
            "Theta   : -0.0224\n",
            "Vega    : 0.3123\n",
            "Rho     : 0.6980\n"
          ]
        }
      ],
      "source": [
        "import numpy as np\n",
        "from scipy.stats import norm\n",
        "\n",
        "def validate_inputs(S, K, T, r, sigma, option_type):\n",
        "    \"\"\"Validate user inputs for Black-Scholes calculation.\"\"\"\n",
        "    if not all(isinstance(x, (int, float)) for x in [S, K, T, r, sigma]):\n",
        "        raise ValueError(\"All numeric inputs must be numbers.\")\n",
        "    if S <= 0 or K <= 0 or T <= 0 or sigma <= 0:\n",
        "        raise ValueError(\"Prices, time, and volatility must be positive.\")\n",
        "    if option_type.lower() not in [\"call\", \"put\"]:\n",
        "        raise ValueError(\"Option type must be 'call' or 'put'.\")\n",
        "    return True\n",
        "\n",
        "def black_scholes_greeks(S, K, T, r, sigma, option_type=\"call\"):\n",
        "    \"\"\"Calculate Black-Scholes option price and Greeks.\"\"\"\n",
        "    validate_inputs(S, K, T, r, sigma, option_type)\n",
        "    d1 = (np.log(S / K) + (r + 0.5 * sigma**2) * T) / (sigma * np.sqrt(T))\n",
        "    d2 = d1 - sigma * np.sqrt(T)\n",
        "\n",
        "    if option_type.lower() == \"call\":\n",
        "        price = S * norm.cdf(d1) - K * np.exp(-r * T) * norm.cdf(d2)\n",
        "        delta = norm.cdf(d1)\n",
        "        theta = (-S * norm.pdf(d1) * sigma / (2 * np.sqrt(T)) - r * K * np.exp(-r * T) * norm.cdf(d2)) / 365\n",
        "        rho = K * T * np.exp(-r * T) * norm.cdf(d2) / 100\n",
        "    else:  # put\n",
        "        price = K * np.exp(-r * T) * norm.cdf(-d2) - S * norm.cdf(-d1)\n",
        "        delta = norm.cdf(d1) - 1\n",
        "        theta = (-S * norm.pdf(d1) * sigma / (2 * np.sqrt(T)) + r * K * np.exp(-r * T) * norm.cdf(-d2)) / 365\n",
        "        rho = -K * T * np.exp(-r * T) * norm.cdf(-d2) / 100\n",
        "\n",
        "    gamma = norm.pdf(d1) / (S * sigma * np.sqrt(T))\n",
        "    vega = S * norm.pdf(d1) * np.sqrt(T) / 100\n",
        "\n",
        "    return {\"Price\": price, \"Delta\": delta, \"Gamma\": gamma, \"Theta\": theta, \"Vega\": vega, \"Rho\": rho}\n",
        "\n",
        "def display_results(greeks, option_type):\n",
        "    \"\"\"Display results in a simple formatted way.\"\"\"\n",
        "    print(f\"\\n{option_type.capitalize()} Option Greeks:\")\n",
        "    for key, value in greeks.items():\n",
        "        print(f\"{key:<8}: {value:.4f}\")\n",
        "\n",
        "def get_input(prompt, cast=float, positive=False):\n",
        "    \"\"\"Helper to get and validate input.\"\"\"\n",
        "    value = input(prompt)\n",
        "    try:\n",
        "        result = cast(value)\n",
        "        if positive and result <= 0:\n",
        "            raise ValueError(f\"{prompt.strip()} must be positive.\")\n",
        "        return result\n",
        "    except ValueError:\n",
        "        raise ValueError(f\"Invalid input for {prompt.strip()}—enter a number.\")\n",
        "\n",
        "def main():\n",
        "    \"\"\"Run the options calculator with streamlined inputs.\"\"\"\n",
        "    print(\"Black-Scholes Options Calculator\")\n",
        "    try:\n",
        "        S = get_input(\"Stock Price (S): \", positive=True)\n",
        "        K = get_input(\"Strike Price (K): \", positive=True)\n",
        "        T = get_input(\"Time to Expiry (years, e.g., 1): \", positive=True)\n",
        "        r = get_input(\"Risk-Free Rate (e.g., 0.05 for 5%): \")\n",
        "        sigma = get_input(\"Volatility (e.g., 0.2 for 20%): \", positive=True)\n",
        "        option_type = get_input(\"Option Type (call or put): \", cast=str).lower()\n",
        "\n",
        "        greeks = black_scholes_greeks(S, K, T, r, sigma, option_type)\n",
        "        display_results(greeks, option_type)\n",
        "    except ValueError as e:\n",
        "        print(f\"Error: {e}\")\n",
        "\n",
        "if __name__ == \"__main__\":\n",
        "    main()"
      ]
    }
  ]
}